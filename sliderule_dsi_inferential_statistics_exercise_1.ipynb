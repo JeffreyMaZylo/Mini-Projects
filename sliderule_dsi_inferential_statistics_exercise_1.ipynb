{
 "cells": [
  {
   "cell_type": "markdown",
   "metadata": {},
   "source": [
    "# What is the True Normal Human Body Temperature? \n",
    "\n",
    "#### Background\n",
    "\n",
    "The mean normal body temperature was held to be 37$^{\\circ}$C or 98.6$^{\\circ}$F for more than 120 years since it was first conceptualized and reported by Carl Wunderlich in a famous 1868 book. But, is this value statistically correct?"
   ]
  },
  {
   "cell_type": "markdown",
   "metadata": {},
   "source": [
    "<h3>Exercises</h3>\n",
    "\n",
    "<p>In this exercise, you will analyze a dataset of human body temperatures and employ the concepts of hypothesis testing, confidence intervals, and statistical significance.</p>\n",
    "\n",
    "<p>Answer the following questions <b>in this notebook below and submit to your Github account</b>.</p> \n",
    "\n",
    "<ol>\n",
    "<li>  Is the distribution of body temperatures normal? \n",
    "    <ul>\n",
    "    <li> Although this is not a requirement for the Central Limit Theorem to hold (read the introduction on Wikipedia's page about the CLT carefully: https://en.wikipedia.org/wiki/Central_limit_theorem), it gives us some peace of mind that the population may also be normally distributed if we assume that this sample is representative of the population.\n",
    "    <li> Think about the way you're going to check for the normality of the distribution. Graphical methods are usually used first, but there are also other ways: https://en.wikipedia.org/wiki/Normality_test\n",
    "    </ul>\n",
    "<li>  Is the sample size large? Are the observations independent?\n",
    "    <ul>\n",
    "    <li> Remember that this is a condition for the Central Limit Theorem, and hence the statistical tests we are using, to apply.\n",
    "    </ul>\n",
    "<li>  Is the true population mean really 98.6 degrees F?\n",
    "    <ul>\n",
    "    <li> First, try a bootstrap hypothesis test.\n",
    "    <li> Now, let's try frequentist statistical testing. Would you use a one-sample or two-sample test? Why?\n",
    "    <li> In this situation, is it appropriate to use the $t$ or $z$ statistic? \n",
    "    <li> Now try using the other test. How is the result be different? Why?\n",
    "    </ul>\n",
    "<li>  Draw a small sample of size 10 from the data and repeat both frequentist tests. \n",
    "    <ul>\n",
    "    <li> Which one is the correct one to use? \n",
    "    <li> What do you notice? What does this tell you about the difference in application of the $t$ and $z$ statistic?\n",
    "    </ul>\n",
    "<li>  At what temperature should we consider someone's temperature to be \"abnormal\"?\n",
    "    <ul>\n",
    "    <li> As in the previous example, try calculating everything using the boostrap approach, as well as the frequentist approach.\n",
    "    <li> Start by computing the margin of error and confidence interval. When calculating the confidence interval, keep in mind that you should use the appropriate formula for one draw, and not N draws.\n",
    "    </ul>\n",
    "<li>  Is there a significant difference between males and females in normal temperature?\n",
    "    <ul>\n",
    "    <li> What testing approach did you use and why?\n",
    "    <li> Write a story with your conclusion in the context of the original problem.\n",
    "    </ul>\n",
    "</ol>\n",
    "\n",
    "You can include written notes in notebook cells using Markdown: \n",
    "   - In the control panel at the top, choose Cell > Cell Type > Markdown\n",
    "   - Markdown syntax: http://nestacms.com/docs/creating-content/markdown-cheat-sheet\n",
    "\n",
    "#### Resources\n",
    "\n",
    "+ Information and data sources: http://www.amstat.org/publications/jse/datasets/normtemp.txt, http://www.amstat.org/publications/jse/jse_data_archive.htm\n",
    "+ Markdown syntax: http://nestacms.com/docs/creating-content/markdown-cheat-sheet\n",
    "\n",
    "****"
   ]
  },
  {
   "cell_type": "code",
   "execution_count": 10,
   "metadata": {},
   "outputs": [],
   "source": [
    "import pandas as pd\n",
    "import numpy as np\n",
    "\n",
    "df = pd.read_csv('data/human_body_temperature.csv')"
   ]
  },
  {
   "cell_type": "code",
   "execution_count": 3,
   "metadata": {},
   "outputs": [
    {
     "name": "stdout",
     "output_type": "stream",
     "text": [
      "<class 'pandas.core.frame.DataFrame'>\n",
      "RangeIndex: 130 entries, 0 to 129\n",
      "Data columns (total 3 columns):\n",
      "temperature    130 non-null float64\n",
      "gender         130 non-null object\n",
      "heart_rate     130 non-null float64\n",
      "dtypes: float64(2), object(1)\n",
      "memory usage: 3.1+ KB\n"
     ]
    },
    {
     "data": {
      "text/html": [
       "<div>\n",
       "<style scoped>\n",
       "    .dataframe tbody tr th:only-of-type {\n",
       "        vertical-align: middle;\n",
       "    }\n",
       "\n",
       "    .dataframe tbody tr th {\n",
       "        vertical-align: top;\n",
       "    }\n",
       "\n",
       "    .dataframe thead th {\n",
       "        text-align: right;\n",
       "    }\n",
       "</style>\n",
       "<table border=\"1\" class=\"dataframe\">\n",
       "  <thead>\n",
       "    <tr style=\"text-align: right;\">\n",
       "      <th></th>\n",
       "      <th>temperature</th>\n",
       "      <th>gender</th>\n",
       "      <th>heart_rate</th>\n",
       "    </tr>\n",
       "  </thead>\n",
       "  <tbody>\n",
       "    <tr>\n",
       "      <th>0</th>\n",
       "      <td>99.3</td>\n",
       "      <td>F</td>\n",
       "      <td>68.0</td>\n",
       "    </tr>\n",
       "    <tr>\n",
       "      <th>1</th>\n",
       "      <td>98.4</td>\n",
       "      <td>F</td>\n",
       "      <td>81.0</td>\n",
       "    </tr>\n",
       "    <tr>\n",
       "      <th>2</th>\n",
       "      <td>97.8</td>\n",
       "      <td>M</td>\n",
       "      <td>73.0</td>\n",
       "    </tr>\n",
       "    <tr>\n",
       "      <th>3</th>\n",
       "      <td>99.2</td>\n",
       "      <td>F</td>\n",
       "      <td>66.0</td>\n",
       "    </tr>\n",
       "    <tr>\n",
       "      <th>4</th>\n",
       "      <td>98.0</td>\n",
       "      <td>F</td>\n",
       "      <td>73.0</td>\n",
       "    </tr>\n",
       "  </tbody>\n",
       "</table>\n",
       "</div>"
      ],
      "text/plain": [
       "   temperature gender  heart_rate\n",
       "0         99.3      F        68.0\n",
       "1         98.4      F        81.0\n",
       "2         97.8      M        73.0\n",
       "3         99.2      F        66.0\n",
       "4         98.0      F        73.0"
      ]
     },
     "execution_count": 3,
     "metadata": {},
     "output_type": "execute_result"
    }
   ],
   "source": [
    "# Your work here.\n",
    "#basic info about dataset\n",
    "\n",
    "df.info()\n",
    "df.head()"
   ]
  },
  {
   "cell_type": "markdown",
   "metadata": {},
   "source": [
    "Problem 1"
   ]
  },
  {
   "cell_type": "code",
   "execution_count": 16,
   "metadata": {},
   "outputs": [
    {
     "data": {
      "image/png": "[encoded data removed]",
      "text/plain": [
       "<Figure size 432x288 with 1 Axes>"
      ]
     },
     "metadata": {
      "needs_background": "light"
     },
     "output_type": "display_data"
    }
   ],
   "source": [
    "#Is the distribution of body temperatures normal?\n",
    "\n",
    "import matplotlib.pyplot as plt\n",
    "\n",
    "# Plot temperature distribution\n",
    "plt.hist(df['temperature'], bins = 10)\n",
    "plt.title('Body Temperature Distribution')\n",
    "plt.xlabel('Body Temperature (F)')\n",
    "plt.ylabel('Number of Obvservations')\n",
    "plt.show()"
   ]
  },
  {
   "cell_type": "code",
   "execution_count": 17,
   "metadata": {},
   "outputs": [
    {
     "data": {
      "image/png": "[encoded data removed]",
      "text/plain": [
       "<Figure size 432x288 with 1 Axes>"
      ]
     },
     "metadata": {
      "needs_background": "light"
     },
     "output_type": "display_data"
    }
   ],
   "source": [
    "# The data looks roughly symmetrical and bell shaped with both large and small numbers of bins. \n",
    "\n",
    "plt.hist(df['temperature'], bins = 20)\n",
    "plt.title('Distribution of Temperatures')\n",
    "plt.xlabel('Temperature (F)')\n",
    "plt.ylabel('Count')\n",
    "plt.show()\n"
   ]
  },
  {
   "cell_type": "code",
   "execution_count": 22,
   "metadata": {},
   "outputs": [
    {
     "name": "stdout",
     "output_type": "stream",
     "text": [
      "Using the scipy normal test, the distribution of body temperatures appears to be normal,\n",
      "given that the p-value for the normality test is: 0.2587479863488254\n",
      "Since the p-value is greater than 0.05, We fail to reject the null hypothesis that the distribution is normal.\n"
     ]
    }
   ],
   "source": [
    "# use normaltest to check normality\n",
    "from scipy.stats import normaltest\n",
    "\n",
    "sk, p = normaltest(df['temperature'])\n",
    "\n",
    "print('Using the scipy normal test, the distribution of body temperatures appears to be normal,')\n",
    "print('given that the p-value for the normality test is: {}'.format(p))\n",
    "print('Since the p-value is greater than 0.05, We fail to reject the null hypothesis that the distribution is normal.')"
   ]
  },
  {
   "cell_type": "markdown",
   "metadata": {},
   "source": [
    "Problem 2"
   ]
  },
  {
   "cell_type": "code",
   "execution_count": 29,
   "metadata": {},
   "outputs": [
    {
     "name": "stdout",
     "output_type": "stream",
     "text": [
      "The sample size is 130 which is large, and is greater than 30, the lower limit to use the Central Limit Theorem.\n",
      "If the observations all come from different individuals, we can assume they are independent because my body temperature should not affect another persons body temperature\n",
      "Checking the dataset in question, the temperatures come from 148 different healthy men and women, so we can assume the observations are independent\n"
     ]
    }
   ],
   "source": [
    "#Is the sample size large? Are the observations independent?\n",
    "\n",
    "len(df['temperature'])\n",
    "\n",
    "print('The sample size is 130 which is large, and is greater than 30, the lower limit to use the Central Limit Theorem.')\n",
    "print('If the observations all come from different individuals, we can assume they are independent because my body temperature should not affect another persons body temperature')\n",
    "print('Checking the dataset in question, the temperatures come from 148 different healthy men and women, so we can assume the observations are independent')"
   ]
  },
  {
   "cell_type": "markdown",
   "metadata": {},
   "source": [
    "Problem 3"
   ]
  },
  {
   "cell_type": "code",
   "execution_count": null,
   "metadata": {},
   "outputs": [],
   "source": [
    "#Is the true population mean really 98.6 degrees F?\n",
    "#Now, let's try frequentist statistical testing. Would you use a one-sample or two-sample test? Why?\n",
    "#In this situation, is it appropriate to use the  𝑡  or  𝑧  statistic?\n",
    "#Now try using the other test. How is the result be different? Why?"
   ]
  },
  {
   "cell_type": "code",
   "execution_count": 31,
   "metadata": {},
   "outputs": [
    {
     "name": "stdout",
     "output_type": "stream",
     "text": [
      "The null hypothesis claims that the bootstrap replicate means of body temperature is equal to 98.6.\n",
      "Given that p-value for bootstrap hypothesis test =  0.0 , we reject the null hypothesis.\n"
     ]
    }
   ],
   "source": [
    "# Bootstrap Hypothesis Test\n",
    "size = 1000\n",
    "bootstrap_replicates = np.empty(size)\n",
    "for i in range(size):\n",
    "    bootstrap_replicates[i] = np.mean(np.random.choice(df['temperature'],len(df['temperature'])))\n",
    "    \n",
    "# Compute fraction of replicates that are equal to the 98.6\n",
    "bootstrap_replicates = np.around(bootstrap_replicates, decimals=1) \n",
    "p = np.sum(bootstrap_replicates == 98.6) / size\n",
    "print('The null hypothesis is that claim that the bootstrap replicate means of body temperature are equal to 98.6.')\n",
    "print('Given that p-value for bootstrap hypothesis test = ', p, ', we reject the null hypothesis.')"
   ]
  },
  {
   "cell_type": "code",
   "execution_count": 38,
   "metadata": {},
   "outputs": [
    {
     "name": "stdout",
     "output_type": "stream",
     "text": [
      "I would use a one-sample test because we are given one sample. In this situation, it is most appropriate to use a t statistic\n",
      "because the population standard deviation is unknown.\n"
     ]
    }
   ],
   "source": [
    "print('I would use a one-sample test because we are given one sample. In this situation, it is most appropriate to use a t statistic')\n",
    "print('because the population standard deviation is unknown.')"
   ]
  },
  {
   "cell_type": "code",
   "execution_count": null,
   "metadata": {},
   "outputs": [],
   "source": [
    "#In this case, the null hypothesis is that the true population average is 98.6 degrees Fahrenheit\n",
    "#The alternative hypothesis is that the true population average is not 98.6 degrees Fahrenheit"
   ]
  },
  {
   "cell_type": "code",
   "execution_count": 47,
   "metadata": {},
   "outputs": [
    {
     "name": "stdout",
     "output_type": "stream",
     "text": [
      "t-statistic: -5.4548232923645195\n",
      "p-value: 2.4106320415561276e-07\n",
      "P-value is below the alpha level so we can reject the null hypothesis that 98.6 degrees Fahrenheit is the true population average for body temperature\n"
     ]
    }
   ],
   "source": [
    "from scipy import stats\n",
    "t = stats.ttest_1samp(df.temperature, 98.6)[0]\n",
    "p = stats.ttest_1samp(df.temperature, 98.6)[1]\n",
    "\n",
    "print('t-statistic:', t)\n",
    "print('p-value:', p)\n",
    "\n",
    "print(\"P-value is below the alpha level so we can reject the null hypothesis that 98.6 degrees Fahrenheit is the true population average for body temperature\")"
   ]
  },
  {
   "cell_type": "code",
   "execution_count": 55,
   "metadata": {},
   "outputs": [
    {
     "name": "stdout",
     "output_type": "stream",
     "text": [
      "Z-Statistic is 5 with a p-value of 4.9021570141012155e-08\n",
      "Both the Z and T statistic reject the null hypothesis\n"
     ]
    }
   ],
   "source": [
    "# Since we don't know the true population standard deviation, z-statistic is not appropriate. But since sample size is large,\n",
    "#the z-statistic should approximate the t-statistic:\n",
    "\n",
    "from statsmodels.stats.weightstats import ztest\n",
    "z_score, z_pval = ztest(df['temperature'],value=98.6)\n",
    "print('Z-Statistic is %d with a p-value of %s' %(abs(z_score),z_pval))\n",
    "print(\"Both the Z and T statistic reject the null hypothesis\")\n"
   ]
  },
  {
   "cell_type": "markdown",
   "metadata": {},
   "source": [
    "Problem 4"
   ]
  },
  {
   "cell_type": "code",
   "execution_count": null,
   "metadata": {},
   "outputs": [],
   "source": [
    "#Draw a small sample of size 10 from the data and repeat both frequentist tests.\n",
    "#Which one is the correct one to use?\n",
    "#What do you notice? What does this tell you about the difference in application of the  𝑡  and  𝑧  statistic?"
   ]
  },
  {
   "cell_type": "code",
   "execution_count": 61,
   "metadata": {},
   "outputs": [
    {
     "name": "stdout",
     "output_type": "stream",
     "text": [
      "Using the random sample of ten observations, the T-Statistic is 2 with a p-value of 0.061743545576800306\n",
      "Using the random sample of ten observation, the Z-Statistic is 2 with a p-value of 0.03294417538633106\n"
     ]
    }
   ],
   "source": [
    "#random sample of 10 observations\n",
    "np.random.seed(8)\n",
    "rand_samp = np.random.choice(df['temperature'], size=10)\n",
    "\n",
    "#t-test\n",
    "rs_ttest,rs_t_pval = stats.ttest_1samp(a=rand_samp, popmean=98.6)\n",
    "\n",
    "#z-test\n",
    "rs_zscore, rs_z_pval = ztest(rand_samp,value=98.6)\n",
    "\n",
    "#answers\n",
    "print('Using the random sample of ten observations, the T-Statistic is %d with a p-value of %s' %(abs(rs_ttest),rs_t_pval))\n",
    "print('Using the random sample of ten observation, the Z-Statistic is %d with a p-value of %s' %(abs(rs_zscore), rs_z_pval))"
   ]
  },
  {
   "cell_type": "code",
   "execution_count": null,
   "metadata": {},
   "outputs": [],
   "source": [
    "print(\"The correct test to use would be a T-test because we do not know population standard deviation\")"
   ]
  },
  {
   "cell_type": "code",
   "execution_count": 62,
   "metadata": {},
   "outputs": [
    {
     "name": "stdout",
     "output_type": "stream",
     "text": [
      "At the 95% confidence level, we reject the null hypothesis using the Z-test, but we fail to reject the null using the T-test\n",
      "Since the p-value for t-test is greater than z, it shows the effect that degrees of freedom for a t-test can have on outcomes \n"
     ]
    }
   ],
   "source": [
    "print(\"At the 95% confidence level, we reject the null hypothesis using the Z-test, but we fail to reject the null using the T-test\")\n",
    "print(\"Since the p-value for t-test is greater than z, it shows the effect that degrees of freedom for a t-test can have on outcomes \")"
   ]
  },
  {
   "cell_type": "markdown",
   "metadata": {},
   "source": [
    "Problem 5"
   ]
  },
  {
   "cell_type": "code",
   "execution_count": null,
   "metadata": {},
   "outputs": [],
   "source": [
    "#At what temperature should we consider someone's temperature to be \"abnormal\"?\n",
    "#As in the previous example, try calculating everything using the boostrap approach, as well as the frequentist approach.\n",
    "#Start by computing the margin of error and confidence interval. When calculating the confidence interval, keep in mind that you should use the appropriate formula for one draw, and not N draws."
   ]
  },
  {
   "cell_type": "code",
   "execution_count": 71,
   "metadata": {},
   "outputs": [
    {
     "name": "stdout",
     "output_type": "stream",
     "text": [
      "We are 95% confident the true bodytemperature average lies between 98.1  and  98.4 .\n",
      "The margin of error, as computed from the bootstrap replicates, is:  0.13461990010395838\n",
      "Statistically abnormal temperatures are ones that lie outside the confidence interval.\n"
     ]
    }
   ],
   "source": [
    "# 95% Confidence Interval, Bootstrap Replicate Approach\n",
    "confidence_int = np.percentile(bootstrap_replicates, [2.5, 97.5]) \n",
    "\n",
    "# Margin of Error\n",
    "margin_of_error = 1.96 * bootstrap_replicates.std()\n",
    "print('We are 95% confident the true bodytemperature average lies between', confidence_int[0], ' and ', confidence_int[1], '.')\n",
    "print('The margin of error, as computed from the bootstrap replicates, is: ', margin_of_error)\n",
    "print('Statistically abnormal temperatures are ones that lie outside the confidence interval.')"
   ]
  },
  {
   "cell_type": "code",
   "execution_count": 72,
   "metadata": {},
   "outputs": [
    {
     "name": "stdout",
     "output_type": "stream",
     "text": [
      "We are 95% confident the true bodytemperature average lies between 98.12319411222852  and  98.37526742623304 .\n",
      "The margin of error, as computed from the t-test method, is:  0.12603665700226638\n",
      "Statistically abnormal temperatures are ones that lie outside the confidence interval\n"
     ]
    }
   ],
   "source": [
    "# 95% Confidence Interval, Frequentist Approach\n",
    "frequentist = df['temperature'].std() / np.sqrt(len(df['temperature']))\n",
    "\n",
    "# Margin of Error\n",
    "margin_of_error_t = 1.96 * frequentist \n",
    "print('We are 95% confident the true bodytemperature average lies between', np.mean(df['temperature']) - margin_of_error_t,\n",
    "      ' and ', np.mean(df['temperature']) + margin_of_error_t, '.')\n",
    "print('The margin of error, as computed from the t-test method, is: ', margin_of_error_t)\n",
    "print('Statistically abnormal temperatures are ones that lie outside the confidence interval')"
   ]
  },
  {
   "cell_type": "markdown",
   "metadata": {},
   "source": [
    "Problem 6"
   ]
  },
  {
   "cell_type": "code",
   "execution_count": null,
   "metadata": {},
   "outputs": [],
   "source": [
    "#Is there a significant difference between males and females in normal temperature?\n",
    "#What testing approach did you use and why?\n",
    "#Write a story with your conclusion in the context of the original problem."
   ]
  },
  {
   "cell_type": "code",
   "execution_count": 82,
   "metadata": {},
   "outputs": [
    {
     "name": "stdout",
     "output_type": "stream",
     "text": [
      "The T-Statistic is 2 with a p-value of 0.023938264182934196\n"
     ]
    }
   ],
   "source": [
    "males = df.temperature[df.gender == 'M']\n",
    "females = df.temperature[df.gender == 'F']\n",
    "\n",
    "# two-sample t-test\n",
    "from scipy.stats import ttest_ind\n",
    "genderttest, genderpval = stats.ttest_ind(a=males, b=females, equal_var=False)\n",
    "\n",
    "print('The T-Statistic is %d with a p-value of %s' %(abs(genderttest), genderpval))"
   ]
  },
  {
   "cell_type": "code",
   "execution_count": 86,
   "metadata": {},
   "outputs": [
    {
     "name": "stdout",
     "output_type": "stream",
     "text": [
      "I used a 2-sample t-test because we are comparing two different samples without knowing population standard deviations.\n",
      "Assuming 95% confidence, our p-value being less than 0.05 gives us evidence to reject the null hypothesis that males and       females have the same average body temperature.\n",
      "Since males and females have statistically significant different average body temperatures, the original claim that the average human body temperate is 98.6, seems suspect. Perhaps Carl Wunderlich made an error by not accounting for gender differences\n"
     ]
    }
   ],
   "source": [
    "print(\"I used a 2-sample t-test because we are comparing two different samples without knowing population standard deviations.\")\n",
    "print('Assuming 95% confidence, our p-value being less than 0.05 gives us evidence to reject the null hypothesis that males and       females have the same average body temperature.')\n",
    "print('Since males and females have statistically significant different average body temperatures, the original claim that the average human body temperate is 98.6, seems suspect. Perhaps Carl Wunderlich made an error by not accounting for gender differences')"
   ]
  },
  {
   "cell_type": "code",
   "execution_count": null,
   "metadata": {},
   "outputs": [],
   "source": []
  }
 ],
 "metadata": {
  "kernelspec": {
   "display_name": "Python 3",
   "language": "python",
   "name": "python3"
  },
  "language_info": {
   "codemirror_mode": {
    "name": "ipython",
    "version": 3
   },
   "file_extension": ".py",
   "mimetype": "text/x-python",
   "name": "python",
   "nbconvert_exporter": "python",
   "pygments_lexer": "ipython3",
   "version": "3.7.3"
  }
 },
 "nbformat": 4,
 "nbformat_minor": 1
}
